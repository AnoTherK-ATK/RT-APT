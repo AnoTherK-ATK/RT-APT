{
 "cells": [
  {
   "metadata": {},
   "cell_type": "markdown",
   "source": "# Xử lý dữ liệu SPADE\n",
   "id": "a7c629c92b832153"
  },
  {
   "metadata": {
    "ExecuteTime": {
     "end_time": "2025-07-02T03:36:23.182258Z",
     "start_time": "2025-07-02T03:36:21.010947Z"
    }
   },
   "cell_type": "code",
   "source": [
    "import pandas as pd\n",
    "import numpy as np\n",
    "import hashlib\n",
    "import networkx as nx\n",
    "from collections import Counter, deque\n",
    "from sklearn.cluster import KMeans\n",
    "from sklearn.decomposition import PCA\n",
    "from sklearn.metrics import classification_report\n",
    "from sklearn.preprocessing import StandardScaler\n",
    "import os\n",
    "from tqdm import tqdm\n",
    "import matplotlib.pyplot as plt\n",
    "import joblib\n",
    "import random as rd\n",
    "import json\n",
    "import lmstudio as lms"
   ],
   "id": "b7de77b9c3169290",
   "outputs": [],
   "execution_count": 3
  },
  {
   "metadata": {},
   "cell_type": "markdown",
   "source": "## Tiền xử lý\n",
   "id": "5a8c53a5e94489cf"
  },
  {
   "metadata": {},
   "cell_type": "markdown",
   "source": "## Chuyển file đã tiền xử lý sang dạng để sử dụng cho WL subtree",
   "id": "6538c06adb4ee5fb"
  },
  {
   "metadata": {
    "ExecuteTime": {
     "end_time": "2025-07-02T03:36:43.636545Z",
     "start_time": "2025-07-02T03:36:24.046816Z"
    }
   },
   "cell_type": "code",
   "source": [
    "\n",
    "def build_graph_from_spade(events):\n",
    "    G = nx.DiGraph()\n",
    "\n",
    "    for entry in events:\n",
    "        if 'id' in entry:  # là một node\n",
    "            node_id = entry['id']\n",
    "            node_type = entry['type']\n",
    "            label = entry.get('annotations', {}).get('subtype', node_type)\n",
    "            G.add_node(node_id, label=label)\n",
    "        else:  # là một edge\n",
    "            src = entry['from']\n",
    "            dst = entry['to']\n",
    "            label = entry['annotations'].get(\"operation\", entry[\"type\"])\n",
    "            G.add_edge(src, dst, label=label)\n",
    "            label = \"benign\"\n",
    "\n",
    "    labels.append(label)\n",
    "    return G\n",
    "\n",
    "with open(\"log_new.json\", \"r\", encoding=\"utf-8\") as f:\n",
    "    logs = json.load(f)\n",
    "labels = []\n",
    "label = \"\"\n",
    "graphs = []\n",
    "for log in tqdm(logs, desc=\"Graphs\"):\n",
    "    if(len(log) > 0):\n",
    "        graphs.append(build_graph_from_spade(log))\n"
   ],
   "id": "aa7252232de94b08",
   "outputs": [
    {
     "name": "stderr",
     "output_type": "stream",
     "text": [
      "Graphs: 100%|██████████| 710/710 [00:08<00:00, 81.57it/s] \n"
     ]
    }
   ],
   "execution_count": 4
  },
  {
   "metadata": {},
   "cell_type": "code",
   "source": "print(labels)",
   "id": "c8d2f3c8e48bbada",
   "outputs": [],
   "execution_count": null
  },
  {
   "metadata": {},
   "cell_type": "markdown",
   "source": [
    "## FlexSketch\n",
    "Được trình bày trong bài báo [FlexSketch: Estimation of Probability Density for Stationary and Non-Stationary Data Streams](https://doi.org/10.3390/s21041080).\n",
    "\n",
    "FlexSketch được sử dụng"
   ],
   "id": "ebd858ebe3352973"
  },
  {
   "metadata": {
    "ExecuteTime": {
     "end_time": "2025-07-02T03:37:01.612771Z",
     "start_time": "2025-07-02T03:37:01.606669Z"
    }
   },
   "cell_type": "code",
   "source": [
    "class FlexSketch:\n",
    "    def __init__(self, max_bins=100, max_histograms=5):\n",
    "        self.max_bins = max_bins\n",
    "        self.max_histograms = max_histograms\n",
    "        self.histograms = deque()\n",
    "        self.weights = deque()\n",
    "\n",
    "    def update(self, label_counter):\n",
    "        most_common = label_counter.most_common(self.max_bins)\n",
    "        vector = np.zeros(self.max_bins)\n",
    "        for i, (_, count) in enumerate(most_common):\n",
    "            vector[i] = count\n",
    "        self.histograms.append(vector)\n",
    "        self.weights.append(1.0)\n",
    "        if len(self.histograms) > self.max_histograms:\n",
    "            self.histograms.popleft()\n",
    "            self.weights.popleft()\n",
    "        total_weight = sum(self.weights)\n",
    "        self.weights = deque([w / total_weight for w in self.weights])\n",
    "\n",
    "    def estimate_vector(self):\n",
    "        result = np.zeros(self.max_bins)\n",
    "        for h, w in zip(self.histograms, self.weights):\n",
    "            result += w * h\n",
    "        return result\n",
    "\n",
    "# WL subtree extraction\n",
    "def wl_subtree_features(graph, k=2):\n",
    "    node_labels = nx.get_node_attributes(graph, 'label')\n",
    "    features = {node: [node_labels.get(node, 'N/A')] for node in graph.nodes()}\n",
    "    current_labels = node_labels.copy()\n",
    "    for _ in range(k):\n",
    "        new_labels = {}\n",
    "        for node in graph.nodes():\n",
    "            neighbors = sorted(\n",
    "                [str(current_labels.get(nbr, '')) for nbr in graph.predecessors(node)] +\n",
    "                [str(current_labels.get(nbr, '')) for nbr in graph.successors(node)]\n",
    "            )\n",
    "            combined = str(current_labels.get(node, '')) + \"|\" + \"|\".join(neighbors)\n",
    "            hash_label = hashlib.md5(combined.encode()).hexdigest()\n",
    "            new_labels[node] = hash_label\n",
    "            features[node].append(hash_label)\n",
    "        current_labels = new_labels\n",
    "    return features"
   ],
   "id": "16fa9170800b25d1",
   "outputs": [],
   "execution_count": 23
  },
  {
   "metadata": {
    "ExecuteTime": {
     "end_time": "2025-07-02T03:37:20.641211Z",
     "start_time": "2025-07-02T03:37:05.751770Z"
    }
   },
   "cell_type": "code",
   "source": [
    "print(\"Extracting FlexSketch vectors...\")\n",
    "flex_vectors = []\n",
    "for G in tqdm(graphs, desc=\"Vectorizing\"):\n",
    "    wl_feats = wl_subtree_features(G, k=3)\n",
    "    all_labels = []\n",
    "    for lbls in wl_feats.values():\n",
    "        all_labels.extend(lbls)\n",
    "    sketch = FlexSketch(max_bins=100)\n",
    "    sketch.update(Counter(all_labels))\n",
    "    flex_vectors.append(sketch.estimate_vector())\n",
    "\n"
   ],
   "id": "8a61a31f16250801",
   "outputs": [
    {
     "name": "stdout",
     "output_type": "stream",
     "text": [
      "Extracting FlexSketch vectors...\n"
     ]
    },
    {
     "name": "stderr",
     "output_type": "stream",
     "text": [
      "Vectorizing: 100%|██████████| 672/672 [00:14<00:00, 45.16it/s] \n"
     ]
    }
   ],
   "execution_count": 24
  },
  {
   "metadata": {
    "ExecuteTime": {
     "end_time": "2025-07-02T03:37:26.576503Z",
     "start_time": "2025-07-02T03:37:23.973063Z"
    }
   },
   "cell_type": "code",
   "source": [
    "import random\n",
    "\n",
    "X = np.array(flex_vectors)\n",
    "y = np.array(labels)\n",
    "\n",
    "print(\"Splitting benign and attack samples...\")\n",
    "X_benign = X[y == \"benign\"]\n",
    "# X_attack = X[y == \"attack\"]\n",
    "# X_attack = rd.choices(X_attack, k = 50)\n",
    "# y_attack = [\"attack\"] * 50\n",
    "\n",
    "# X = np.concatenate([X_benign, X_attack], axis=0)\n",
    "X = np.concatenate([X_benign], axis=0)\n",
    "# y = [\"benign\"] * len(labels) + [\"attack\"] * 50\n",
    "y = labels\n",
    "print(\"Standardizing feature vectors...\")\n",
    "scaler = StandardScaler()\n",
    "X_benign_scaled = scaler.fit_transform(X_benign)\n",
    "#X_attack_scaled = scaler.transform(X_attack)\n",
    "X_all_scaled = scaler.transform(X)\n",
    "\n",
    "print(\"Training KMeans on benign samples...\")\n",
    "kmeans = KMeans(n_clusters=2, random_state=random.randint(1,100))\n",
    "kmeans.fit(X_benign_scaled)\n",
    "\n",
    "def min_distance(x):\n",
    "    return np.min(np.linalg.norm(kmeans.cluster_centers_ - x, axis=1))\n",
    "\n",
    "print(\"Computing anomaly threshold...\")\n",
    "benign_dists = [min_distance(x) for x in tqdm(X_benign_scaled, desc=\"Benign distances\")]\n",
    "threshold = np.percentile(benign_dists, 95)\n",
    "\n",
    "with open(\"threshold_spade.json\", \"w\") as f:\n",
    "    json.dump({\"threshold\": threshold}, f)\n",
    "\n",
    "print(\"Predicting anomalies...\")\n",
    "all_labels = [1 if cls == \"attack\" else 0 for cls in y]\n",
    "pred_labels = [1 if min_distance(x) > threshold else 0 for x in tqdm(X_all_scaled, desc=\"Predicting\")]\n",
    "\n",
    "print(\"Evaluating...\")\n",
    "report = classification_report(all_labels, pred_labels, target_names=[\"Benign\", \"Attack\"], output_dict=True)\n",
    "df_report = pd.DataFrame(report).transpose()\n",
    "\n",
    "# Filter only Benign, Attack\n",
    "plot_data = df_report.loc[[\"Benign\", \"Attack\"], [\"precision\", \"recall\", \"f1-score\"]]\n",
    "\n",
    "# Plot\n",
    "ax = plot_data.plot(kind=\"bar\", figsize=(10, 6), colormap='viridis', edgecolor='black')\n",
    "plt.title(\"Precision, Recall, F1-score by Class\")\n",
    "plt.xticks(rotation=0)\n",
    "plt.ylabel(\"Score\")\n",
    "plt.ylim(0, 1.05)\n",
    "plt.grid(True, axis='y', linestyle='--', alpha=0.6)\n",
    "plt.legend(loc='upper right')\n",
    "plt.tight_layout()\n",
    "plt.show()\n",
    "\n",
    "model_path = \"kmeans_model_spade.joblib\"\n",
    "scaler_path = \"scaler_spade.joblib\"\n",
    "\n",
    "joblib.dump(kmeans, model_path)\n",
    "joblib.dump(scaler, scaler_path)\n",
    "\n",
    "print(\"\\n=== Classification Report (Anomaly Detection) ===\")\n",
    "print(report)\n",
    "# Reduce to 2D using PCA for visualization\n",
    "pca = PCA(n_components=2)\n",
    "X_2d = pca.fit_transform(X_all_scaled)\n",
    "centroids_2d = pca.transform(kmeans.cluster_centers_)\n",
    "\n",
    "# Predict cluster labels for visualization\n",
    "cluster_labels = kmeans.predict(X_all_scaled)\n",
    "\n",
    "# Plot clusters with centroids\n",
    "plt.figure(figsize=(10, 6))\n",
    "scatter = plt.scatter(X_2d[:, 0], X_2d[:, 1], c=cluster_labels, cmap=\"tab10\", alpha=0.6, label=\"Data Points\")\n",
    "#plt.scatter(centroids_2d[:, 0], centroids_2d[:, 1], c='yellow', marker='X', s=200, edgecolor='black', label=\"Centroids\")\n",
    "\n",
    "# Annotate centroids\n",
    "for i, (x, y) in enumerate(centroids_2d):\n",
    "    plt.text(x, y, f'C{i}', fontsize=10, ha='center', va='center', weight='bold', color='black')\n",
    "\n",
    "plt.title(\"KMeans Clustering with Centroids (PCA 2D Projection)\")\n",
    "plt.xlabel(\"PCA Component 1\")\n",
    "plt.ylabel(\"PCA Component 2\")\n",
    "plt.legend()\n",
    "plt.grid(True)\n",
    "plt.tight_layout()\n",
    "plt.show()"
   ],
   "id": "a8ed781c2109fd26",
   "outputs": [
    {
     "name": "stdout",
     "output_type": "stream",
     "text": [
      "Splitting benign and attack samples...\n",
      "Standardizing feature vectors...\n",
      "Training KMeans on benign samples...\n",
      "Computing anomaly threshold...\n"
     ]
    },
    {
     "name": "stderr",
     "output_type": "stream",
     "text": [
      "Benign distances: 100%|██████████| 672/672 [00:00<00:00, 134660.18it/s]\n"
     ]
    },
    {
     "name": "stdout",
     "output_type": "stream",
     "text": [
      "Predicting anomalies...\n"
     ]
    },
    {
     "name": "stderr",
     "output_type": "stream",
     "text": [
      "Predicting: 100%|██████████| 672/672 [00:00<00:00, 121936.94it/s]"
     ]
    },
    {
     "name": "stdout",
     "output_type": "stream",
     "text": [
      "Evaluating...\n"
     ]
    },
    {
     "name": "stderr",
     "output_type": "stream",
     "text": [
      "\n",
      "C:\\Users\\anotherk\\AppData\\Roaming\\Python\\Python313\\site-packages\\sklearn\\metrics\\_classification.py:1565: UndefinedMetricWarning: Recall is ill-defined and being set to 0.0 in labels with no true samples. Use `zero_division` parameter to control this behavior.\n",
      "  _warn_prf(average, modifier, f\"{metric.capitalize()} is\", len(result))\n",
      "C:\\Users\\anotherk\\AppData\\Roaming\\Python\\Python313\\site-packages\\sklearn\\metrics\\_classification.py:1565: UndefinedMetricWarning: Recall is ill-defined and being set to 0.0 in labels with no true samples. Use `zero_division` parameter to control this behavior.\n",
      "  _warn_prf(average, modifier, f\"{metric.capitalize()} is\", len(result))\n",
      "C:\\Users\\anotherk\\AppData\\Roaming\\Python\\Python313\\site-packages\\sklearn\\metrics\\_classification.py:1565: UndefinedMetricWarning: Recall is ill-defined and being set to 0.0 in labels with no true samples. Use `zero_division` parameter to control this behavior.\n",
      "  _warn_prf(average, modifier, f\"{metric.capitalize()} is\", len(result))\n"
     ]
    },
    {
     "data": {
      "text/plain": [
       "<Figure size 1000x600 with 1 Axes>"
      ],
      "image/png": "[encoded data removed]"
     },
     "metadata": {},
     "output_type": "display_data"
    },
    {
     "name": "stdout",
     "output_type": "stream",
     "text": [
      "\n",
      "=== Classification Report (Anomaly Detection) ===\n",
      "{'Benign': {'precision': 1.0, 'recall': 0.9494047619047619, 'f1-score': 0.9740458015267176, 'support': 672.0}, 'Attack': {'precision': 0.0, 'recall': 0.0, 'f1-score': 0.0, 'support': 0.0}, 'accuracy': 0.9494047619047619, 'macro avg': {'precision': 0.5, 'recall': 0.47470238095238093, 'f1-score': 0.4870229007633588, 'support': 672.0}, 'weighted avg': {'precision': 1.0, 'recall': 0.9494047619047619, 'f1-score': 0.9740458015267176, 'support': 672.0}}\n"
     ]
    },
    {
     "data": {
      "text/plain": [
       "<Figure size 1000x600 with 1 Axes>"
      ],
      "image/png": "[encoded data removed]"
     },
     "metadata": {},
     "output_type": "display_data"
    }
   ],
   "execution_count": 25
  },
  {
   "metadata": {},
   "cell_type": "markdown",
   "source": "## Thử nghiệm trên input thực tế",
   "id": "d415b296cbffcaa"
  },
  {
   "metadata": {},
   "cell_type": "code",
   "source": [
    "\n",
    "print(threshold)\n",
    "logs = []\n",
    "with open(\"log.json\", \"r\", encoding=\"utf-8\") as f:\n",
    "    logs = json.load(f)\n",
    "\n",
    "graphs = []\n",
    "graphs.append(build_graph_from_spade(logs))\n",
    "\n",
    "flex_vectors = []\n",
    "for G in tqdm(graphs, desc=\"Vectorizing\"):\n",
    "    wl_feats = wl_subtree_features(G, k=3)\n",
    "    all_labels = []\n",
    "    for lbls in wl_feats.values():\n",
    "        all_labels.extend(lbls)\n",
    "    sketch = FlexSketch(max_bins=100)\n",
    "    sketch.update(Counter(all_labels))\n",
    "    flex_vectors.append(sketch.estimate_vector())\n",
    "\n",
    "total = 0\n",
    "\n",
    "def detect(x):\n",
    "    global total\n",
    "    dist = min_distance(x)\n",
    "    print(dist)\n",
    "    total += dist\n",
    "    print(threshold)\n",
    "    return dist > threshold\n",
    "\n",
    "X = np.array(flex_vectors)\n",
    "y = np.array(labels)\n",
    "Xscale = scaler.transform(X)\n",
    "for G in Xscale:\n",
    "\n",
    "    if detect(G):\n",
    "        print(\"attack\")\n",
    "\n",
    "    else:\n",
    "        print(\"benign\")\n",
    "\n",
    "\n",
    "print(total / len(flex_vectors))\n",
    "\n"
   ],
   "id": "f1656b6218ecbda9",
   "outputs": [],
   "execution_count": null
  },
  {
   "metadata": {},
   "cell_type": "code",
   "source": [
    "def graph_to_text(graph: nx.DiGraph) -> str:\n",
    "    lines = []\n",
    "    for src, dst, data in graph.edges(data=True):\n",
    "        src_label = graph.nodes[src].get('label', 'Unknown')\n",
    "        dst_label = graph.nodes[dst].get('label', 'Unknown')\n",
    "        op = data.get('label', data.get('operation', 'access'))\n",
    "        lines.append(f\"{src} ({src_label}) --[{op}]--> {dst} ({dst_label})\")\n",
    "    return \"\\n\".join(lines)\n",
    "\n",
    "def llm_analyze_graph(graph: nx.DiGraph):\n",
    "    model = lms.llm(\"qwen3-30b-a3b\")\n",
    "    prompt = f\"\"\"\n",
    "You are a cybersecurity analyst. Analyze the following provenance graph for possible APT-style attack behavior.\n",
    "\n",
    "Each line represents a system-level event:\n",
    "\n",
    "{graph_to_text(graph)}\n",
    "\n",
    "Please explain what the behavior indicates. Is this malicious? Why or why not? What kind of attack might it be?\n",
    "\"\"\"\n",
    "    response = model.respond(prompt)\n",
    "    return response\n",
    "print(graph_to_text(graphs[0]))"
   ],
   "id": "86d188e8467b4ffd",
   "outputs": [],
   "execution_count": null
  }
 ],
 "metadata": {
  "kernelspec": {
   "display_name": "Python 3",
   "language": "python",
   "name": "python3"
  },
  "language_info": {
   "codemirror_mode": {
    "name": "ipython",
    "version": 2
   },
   "file_extension": ".py",
   "mimetype": "text/x-python",
   "name": "python",
   "nbconvert_exporter": "python",
   "pygments_lexer": "ipython2",
   "version": "2.7.6"
  }
 },
 "nbformat": 4,
 "nbformat_minor": 5
}
